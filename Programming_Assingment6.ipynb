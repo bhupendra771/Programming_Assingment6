{
 "cells": [
  {
   "cell_type": "code",
   "execution_count": 1,
   "id": "e485720c",
   "metadata": {},
   "outputs": [
    {
     "name": "stdout",
     "output_type": "stream",
     "text": [
      "Enter nth number\n",
      "3\n",
      "Fibonacci sequence:\n",
      "0\n",
      "1\n",
      "1\n"
     ]
    }
   ],
   "source": [
    "# 1.\tWrite a Python Program to Display Fibonacci Sequence Using Recursion?\n",
    "nth = int(input(\"Enter nth number\\n\"))\n",
    "# a =0\n",
    "# x =0\n",
    "# y =1\n",
    "\n",
    "# if n>0:\n",
    "#     for i in range (1,n+1):\n",
    "        \n",
    "#         print(x)\n",
    "      \n",
    "#         a =x+y\n",
    "#         x = y\n",
    "#         y = a\n",
    "# else :\n",
    "#     print(\"invalid input\")\n",
    "    \n",
    "def recur_fibo(n):\n",
    "   if n <= 1:\n",
    "       return n\n",
    "   else:\n",
    "       return(recur_fibo(n-1) + recur_fibo(n-2))\n",
    "\n",
    "nterms = nth\n",
    "\n",
    "# check if the number of terms is valid\n",
    "if nterms <= 0:\n",
    "   print(\"Plese enter a positive integer\")\n",
    "else:\n",
    "   print(\"Fibonacci sequence:\")\n",
    "   for i in range(nterms):\n",
    "       print(recur_fibo(i))\n",
    "\n",
    "\n"
   ]
  },
  {
   "cell_type": "code",
   "execution_count": 5,
   "id": "808163d2",
   "metadata": {},
   "outputs": [
    {
     "name": "stdout",
     "output_type": "stream",
     "text": [
      "enter input number for factrorial\n",
      "5\n",
      "factorial is = 120\n"
     ]
    }
   ],
   "source": [
    "# 2.\tWrite a Python Program to Find Factorial of Number Using Recursion?\n",
    "n = int(input(\"enter input number for factrorial\\n\"))\n",
    "x = 1\n",
    "# for i in range(1, n+1):\n",
    "#     x = i*x\n",
    "    \n",
    "# print(x)\n",
    "    \n",
    "def fac(f):\n",
    "    if f==1:\n",
    "        return f\n",
    "    else:\n",
    "        return f*fac(f-1)  \n",
    "      \n",
    "    \n",
    "print(f\"factorial is = {fac(n)}\")"
   ]
  },
  {
   "cell_type": "code",
   "execution_count": 14,
   "id": "5bbbcabf",
   "metadata": {},
   "outputs": [
    {
     "name": "stdout",
     "output_type": "stream",
     "text": [
      "enter your Weight in kilogram94\n",
      "enter your height in meter2\n",
      "your BMI is= 23.5\n"
     ]
    }
   ],
   "source": [
    "# 3.\tWrite a Python Program to calculate your Body Mass Index?\n",
    "kg=int(input(\"enter your Weight in kilogram\"))\n",
    "m=int(input(\"enter your height in meter\"))\n",
    "# w = (kg)/(m*m)\n",
    "print(\"your BMI is=\",(kg)/(m*m))\n",
    "\n"
   ]
  },
  {
   "cell_type": "code",
   "execution_count": 21,
   "id": "5850acbb",
   "metadata": {},
   "outputs": [
    {
     "name": "stdout",
     "output_type": "stream",
     "text": [
      "enter your number \n",
      "100\n",
      "4.605170185988092\n"
     ]
    }
   ],
   "source": [
    "# 4.\tWrite a Python Program to calculate the natural logarithm of any number?\n",
    "import math\n",
    "num = float(input(\"enter your number \\n\"))\n",
    "\n",
    "print(math.log(num))\n"
   ]
  },
  {
   "cell_type": "code",
   "execution_count": 28,
   "id": "69fbc30b",
   "metadata": {},
   "outputs": [
    {
     "name": "stdout",
     "output_type": "stream",
     "text": [
      "enter your nth term \n",
      "3\n",
      "36\n"
     ]
    }
   ],
   "source": [
    "# 5.\tWrite a Python Program for cube sum of first n natural numbers?\n",
    "num = int(input(\"enter your nth term \\n\"))\n",
    "x = 0\n",
    "for i in range(1,num+1):\n",
    "    x= i**3+x\n",
    "    \n",
    "print(x)"
   ]
  },
  {
   "cell_type": "code",
   "execution_count": null,
   "id": "14e92722",
   "metadata": {},
   "outputs": [],
   "source": []
  }
 ],
 "metadata": {
  "kernelspec": {
   "display_name": "Python 3 (ipykernel)",
   "language": "python",
   "name": "python3"
  },
  "language_info": {
   "codemirror_mode": {
    "name": "ipython",
    "version": 3
   },
   "file_extension": ".py",
   "mimetype": "text/x-python",
   "name": "python",
   "nbconvert_exporter": "python",
   "pygments_lexer": "ipython3",
   "version": "3.9.7"
  }
 },
 "nbformat": 4,
 "nbformat_minor": 5
}
